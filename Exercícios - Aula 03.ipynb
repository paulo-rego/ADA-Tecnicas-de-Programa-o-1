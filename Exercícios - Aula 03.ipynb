{
 "cells": [
  {
   "attachments": {},
   "cell_type": "markdown",
   "metadata": {},
   "source": [
    "## Aula 03 - Exercícios"
   ]
  },
  {
   "cell_type": "markdown",
   "metadata": {},
   "source": [
    "__________\n",
    "___________"
   ]
  },
  {
   "cell_type": "markdown",
   "metadata": {},
   "source": [
    "## Vamos praticar?"
   ]
  },
  {
   "cell_type": "markdown",
   "metadata": {},
   "source": [
    "Em grupos, resolvam os exercícios a seguir."
   ]
  },
  {
   "cell_type": "markdown",
   "metadata": {},
   "source": [
    "**1.** Em uma **análise de regressão**, usualmente estamos interessados em descrever relações entre variáveis de um dado conjunto de dados por meio de uma **função** que descreva, o tanto quanto possível, estas relações.\n",
    "\n",
    "Por exemplo, no gráfico abaixo, os pontos vermelhos relacionam as medidas das duas variáveis sendo avaliadas (nos eixos x e y); e a linha azul aproxima a relação entre elas por uma função linear."
   ]
  },
  {
   "attachments": {},
   "cell_type": "markdown",
   "metadata": {},
   "source": [
    "![Normdist_regression.png][def]\n",
    "\n",
    "[def]: attachment:Normdist_regression.png"
   ]
  },
  {
   "cell_type": "markdown",
   "metadata": {},
   "source": [
    "É possível ver que nem todos os pontos obedecem exatamente à relação ditada pela reta (isto é, há pontos que não estão exatamente \"sobre a reta\"; mas, sim, ligeraimente acima, ou abaixo, dela). Isto, contudo, é esperado em um modelo de regressão, por inúmeras fontes de incerteza associadas às medições."
   ]
  },
  {
   "cell_type": "markdown",
   "metadata": {},
   "source": [
    "Uma das métricas que utilizamos para avaliar a qualidade de uma regressão é o **erro quadrático médio (EQM)**, que mensura a diferença total entre cada predição da regressão ($y_{prediction}$; que no nosso caso seriam os valores de y para a reta azul) com o valor real de cada i-ésima medida ($y_{i}$; que no nosso caso seriam as coordenadas y para cada ponto vermelho do gráfico). O EQM pode ser definido como:"
   ]
  },
  {
   "cell_type": "markdown",
   "metadata": {},
   "source": [
    "$EQM = \\frac{1}{n}\\sum_{i=1}^{n}(y_{prediction} - y_{i})^2$."
   ]
  },
  {
   "cell_type": "markdown",
   "metadata": {},
   "source": [
    "Isto posto, escreva uma função que calcule o EQM recebendo, como entrada, os vetores $y_{prediction}$ e $y_{i}$. Por exemplo, digamos que sua função se chame *calculate_eqm*, ela deve operar da seguinte forma:"
   ]
  },
  {
   "cell_type": "code",
   "execution_count": 13,
   "metadata": {},
   "outputs": [],
   "source": [
    "# dados dois arrays quaisquer de mesmo tamanho, a função deve retornar o EQM\n",
    "import numpy as np\n",
    "\n",
    "y_prediction = np.array([1,2,3])\n",
    "y_i = np.array([0,0,3])\n",
    "#calculate_eqm(y_prediction,y_i)"
   ]
  },
  {
   "cell_type": "code",
   "execution_count": 15,
   "metadata": {},
   "outputs": [
    {
     "name": "stdout",
     "output_type": "stream",
     "text": [
      "1.6666666666666667\n"
     ]
    }
   ],
   "source": [
    "# Solução\n",
    "\n",
    "def calculate_eqm(y_previsto,y_observado):\n",
    "    return (np.square(y_previsto-y_observado).sum())/y_previsto.size\n",
    "    \n",
    "print(calculate_eqm(y_prediction,y_i))"
   ]
  },
  {
   "cell_type": "markdown",
   "metadata": {},
   "source": [
    "**2.** A eletroencefalografia (EEG) é uma técnica que mensura potenciais elétricos cerebrais em diversas regiões do escalpo do paciente. Suponha que você recebeu um conjunto de dados na forma de uma matriz de 64 x 512 elementos, em que cada linha contém o sinal gravado em um dos **eletrodos** espalhados pelo escalpo em um exame de EEG, e cada coluna contém um valor de potencial elétrico, em microvolts. "
   ]
  },
  {
   "cell_type": "markdown",
   "metadata": {},
   "source": [
    "Como o sinal de EEG é muito suscetível a ruídos externos (interferências na qualidade do sinal), uma operação comum para atenuar a interferência no sinal consiste em tirar a média do potencial elétrico de todos os eletrodos, e subtrair este valor de cada um deles. Isto atenua fontes de ruído ao sinal comuns a todos os eletrodos. Em termos matemáticos, o sinal processado por esta operação, $X_{e,i}$ para cada eletrodo (e) e amostra (i), é dado por:"
   ]
  },
  {
   "cell_type": "markdown",
   "metadata": {},
   "source": [
    "$X_{e,i} = \\hat{X_{e,i}} - \\frac{1}{N}\\sum_{e=1}^{N}\\hat{X_{e,i}}$,\n",
    "\n",
    "em que $\\hat{X_{e,i}}$ representa o sinal original (ou seja, é a matriz de entrada de 64 x 512 elementos), e $N$ indica o total de eletrodos."
   ]
  },
  {
   "cell_type": "markdown",
   "metadata": {},
   "source": [
    "Com o exposto acima, escreva uma função que retorne uma matriz com os sinais de EEG processados conforme a operação mencionada. Sua função deve operar conforme o exemplo abaixo."
   ]
  },
  {
   "cell_type": "code",
   "execution_count": 16,
   "metadata": {},
   "outputs": [
    {
     "data": {
      "text/plain": [
       "(64, 512)"
      ]
     },
     "execution_count": 16,
     "metadata": {},
     "output_type": "execute_result"
    }
   ],
   "source": [
    "# vamos supor uma matriz de entrada gerada por dados aleatórios\n",
    "X = np.random.randn(64,512)\n",
    "X.shape # apenas para verificar as dimensões"
   ]
  },
  {
   "cell_type": "code",
   "execution_count": 92,
   "metadata": {},
   "outputs": [
    {
     "data": {
      "text/plain": [
       "(64, 512)"
      ]
     },
     "execution_count": 92,
     "metadata": {},
     "output_type": "execute_result"
    }
   ],
   "source": [
    "# a função deve executar a operação equacionada anteriormente, retornando uma nova matriz\n",
    "X_processado = process_EEG_signal(X)\n",
    "X_processado.shape"
   ]
  },
  {
   "cell_type": "code",
   "execution_count": 93,
   "metadata": {},
   "outputs": [
    {
     "data": {
      "text/plain": [
       "-53.08727366483029"
      ]
     },
     "execution_count": 93,
     "metadata": {},
     "output_type": "execute_result"
    }
   ],
   "source": [
    "# Somando as diferenças entre cada elemento das duas matrizes, apenas para ilustrar que elas não são iguais\n",
    "(X_processado - X).sum()"
   ]
  },
  {
   "cell_type": "code",
   "execution_count": 94,
   "metadata": {},
   "outputs": [
    {
     "data": {
      "text/plain": [
       "array([[ 0.29305925,  0.89663038, -0.61032202, ..., -0.88086364,\n",
       "        -0.8818789 ,  0.51260497],\n",
       "       [-0.01274415,  1.05439522,  0.47958092, ..., -2.15387924,\n",
       "         0.70721168,  0.97029889],\n",
       "       [ 1.09478371, -0.16120847,  1.58400361, ...,  0.20981813,\n",
       "         2.17373837,  0.94032162],\n",
       "       ...,\n",
       "       [-0.45294842, -2.28939505,  1.10111998, ...,  1.63581703,\n",
       "        -0.39394924, -1.13400723],\n",
       "       [-0.22669886,  0.25413429, -1.17870637, ..., -0.09509442,\n",
       "         0.90733806,  0.37999411],\n",
       "       [ 0.15476933, -0.03654717, -1.09982762, ...,  0.67600047,\n",
       "        -0.84533328, -0.56433144]])"
      ]
     },
     "execution_count": 94,
     "metadata": {},
     "output_type": "execute_result"
    }
   ],
   "source": [
    "# Visualizando as matrizes, para verificar uma vez mais que, de fato, os elementos são diferentes\n",
    "X"
   ]
  },
  {
   "cell_type": "code",
   "execution_count": 95,
   "metadata": {},
   "outputs": [
    {
     "data": {
      "text/plain": [
       "array([[ 0.36713022,  0.85772513, -0.54902169, ..., -0.85626087,\n",
       "        -0.97611435,  0.51718998],\n",
       "       [ 0.06132682,  1.01548997,  0.54088126, ..., -2.12927647,\n",
       "         0.61297623,  0.97488389],\n",
       "       [ 1.16885469, -0.20011372,  1.64530394, ...,  0.23442091,\n",
       "         2.07950292,  0.94490663],\n",
       "       ...,\n",
       "       [-0.37887744, -2.3283003 ,  1.16242031, ...,  1.6604198 ,\n",
       "        -0.4881847 , -1.12942223],\n",
       "       [-0.15262788,  0.21522904, -1.11740604, ..., -0.07049164,\n",
       "         0.81310261,  0.38457911],\n",
       "       [ 0.22884031, -0.07545242, -1.03852729, ...,  0.70060324,\n",
       "        -0.93956874, -0.55974643]])"
      ]
     },
     "execution_count": 95,
     "metadata": {},
     "output_type": "execute_result"
    }
   ],
   "source": [
    "# Matriz após o processamento descrito no enunciado\n",
    "X_processado\n",
    "\n"
   ]
  },
  {
   "cell_type": "code",
   "execution_count": 17,
   "metadata": {},
   "outputs": [],
   "source": [
    "# Solução\n",
    "def process_EEG_signal(X):\n",
    "    return(X - np.mean(X))"
   ]
  },
  {
   "cell_type": "markdown",
   "metadata": {},
   "source": [
    "**3.** Em estatística, um **outlier** é um valor que destoa consideravelmente da distribuição à qual está associado. Um dos critérios para idenficar outliers consiste em encontrar a **distância interquantil** (IQR), ou seja, a diferença entre o terceiro (Q3) e o primeiro quartis (Q1) da distribuição, e tomar como outliers todos os pontos abaixo de 1.5*IQR - Q1, ou acima de 1.5*IQR + Q3."
   ]
  },
  {
   "cell_type": "markdown",
   "metadata": {},
   "source": [
    "<img src = \"https://blog.curso-r.com/images/posts/banner/outlier.webp\" />"
   ]
  },
  {
   "cell_type": "markdown",
   "metadata": {},
   "source": [
    "Escreva uma função que, dada uma matriz de dados de entrada de dimensões $N_{observações} \\times N_{features}$ retorne três requisitos: \n",
    "- uma matriz booleana indicando a existência de outliers nos dados de entrada;\n",
    "- a quantidade de outliers\n",
    "- quem são os outliers (os valores)."
   ]
  },
  {
   "cell_type": "markdown",
   "metadata": {},
   "source": [
    "**Algumas definições:**\n",
    "- um *quantil* divide a distribuição, após ordenados os pontos, segundo algum ponto de corte;\n",
    "- o **primeiro quartil** é o ponto para o qual 25 % dos valores da distribuição estão abaixo dele;\n",
    "- o **terceiro quartil** é o ponto para o qual 75 % dos valores da distribuição estão abaixo dele.\n",
    "\n",
    "Pode ser útil consultar a função **numpy.quantile**."
   ]
  },
  {
   "cell_type": "markdown",
   "metadata": {},
   "source": [
    "Exemplo de operação da função:"
   ]
  },
  {
   "cell_type": "code",
   "execution_count": 43,
   "metadata": {},
   "outputs": [
    {
     "data": {
      "text/plain": [
       "-0.6814420872832861"
      ]
     },
     "execution_count": 43,
     "metadata": {},
     "output_type": "execute_result"
    }
   ],
   "source": [
    "# Geremos um conjunto de dados qualquer\n",
    "import numpy as np\n",
    "X = np.random.randn(300,15)\n",
    "np.quantile(X, q = 0.25)"
   ]
  },
  {
   "cell_type": "code",
   "execution_count": 71,
   "metadata": {},
   "outputs": [],
   "source": [
    "# identificamos os requisitos com nossa com nossa função \"locate_outliers\"\n",
    "is_outlier, outliers_count, outliers = locate_outliers(X)"
   ]
  },
  {
   "cell_type": "code",
   "execution_count": 13,
   "metadata": {},
   "outputs": [
    {
     "ename": "ValueError",
     "evalue": "The truth value of an array with more than one element is ambiguous. Use a.any() or a.all()",
     "output_type": "error",
     "traceback": [
      "\u001b[1;31m---------------------------------------------------------------------------\u001b[0m",
      "\u001b[1;31mValueError\u001b[0m                                Traceback (most recent call last)",
      "Cell \u001b[1;32mIn[13], line 1\u001b[0m\n\u001b[1;32m----> 1\u001b[0m (X \u001b[39m>\u001b[39;49m \u001b[39m0.2\u001b[39;49m) \u001b[39mor\u001b[39;49;00m   (X \u001b[39m<\u001b[39;49m \u001b[39m0.1\u001b[39;49m)\n",
      "\u001b[1;31mValueError\u001b[0m: The truth value of an array with more than one element is ambiguous. Use a.any() or a.all()"
     ]
    }
   ],
   "source": [
    "(X > 0.2) or   (X < 0.1)"
   ]
  },
  {
   "cell_type": "code",
   "execution_count": 72,
   "metadata": {},
   "outputs": [
    {
     "name": "stdout",
     "output_type": "stream",
     "text": [
      "[[False False False ... False False False]\n",
      " [False False False ... False False False]\n",
      " [False False False ... False False False]\n",
      " ...\n",
      " [False False False ... False False False]\n",
      " [False False False ... False False False]\n",
      " [False False False ... False False False]]\n",
      "22\n",
      "[-2.85159314 -2.84403778 -3.10966935 -2.88100925 -3.13008592 -2.97711732\n",
      "  2.86918492 -3.01457685  3.30011415  3.0813314  -2.94625226 -2.75619396\n",
      "  2.93581601 -2.70665446  2.93506703 -2.99292848 -3.05254233  3.04557873\n",
      " -3.16393174 -3.24245897  2.6989846   2.69913543]\n"
     ]
    }
   ],
   "source": [
    "print(is_outlier)\n",
    "print(outliers_count)\n",
    "print(outliers)"
   ]
  },
  {
   "cell_type": "code",
   "execution_count": 70,
   "metadata": {},
   "outputs": [],
   "source": [
    "# Solução\n",
    "#is_outlier, outliers_count, outliers = locate_outliers(X)\n",
    "\n",
    "def locate_outliers(X):\n",
    "    iqr = np.quantile(X, q = 0.75) - np.quantile(X, q = 0.25)\n",
    "\n",
    "    is_outlier = (X > (1.5*iqr + np.quantile(X, q = 0.75))) | (X < (-1.5 * iqr + np.quantile(X, q = 0.25)))\n",
    "\n",
    "    outliers_count = is_outlier.sum()\n",
    "\n",
    "    outliers = X[is_outlier]\n",
    "    return(is_outlier, outliers_count, outliers  )\n",
    "    "
   ]
  }
 ],
 "metadata": {
  "kernelspec": {
   "display_name": "Python 3",
   "language": "python",
   "name": "python3"
  },
  "language_info": {
   "codemirror_mode": {
    "name": "ipython",
    "version": 3
   },
   "file_extension": ".py",
   "mimetype": "text/x-python",
   "name": "python",
   "nbconvert_exporter": "python",
   "pygments_lexer": "ipython3",
   "version": "3.11.2"
  },
  "vscode": {
   "interpreter": {
    "hash": "c261aea317cc0286b3b3261fbba9abdec21eaa57589985bb7a274bf54d6cc0a7"
   }
  }
 },
 "nbformat": 4,
 "nbformat_minor": 2
}
